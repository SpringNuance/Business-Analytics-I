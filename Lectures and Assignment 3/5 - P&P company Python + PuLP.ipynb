{
 "cells": [
  {
   "cell_type": "code",
   "execution_count": 1,
   "metadata": {},
   "outputs": [
    {
     "name": "stdout",
     "output_type": "stream",
     "text": [
      "Optimal transportation cost 1578200.0 .\n",
      "------\n",
      "Transport 2500.0 tons from mill 1 to warehouse 1.\n",
      "Transport 3000.0 tons from mill 1 to warehouse 2.\n",
      "Transport 4400.0 tons from mill 1 to warehouse 3.\n",
      "------\n",
      "Transport 1100.0 tons from mill 2 to warehouse 3.\n",
      "Transport 900.0 tons from mill 2 to warehouse 4.\n",
      "------\n",
      "Transport 4100.0 tons from mill 3 to warehouse 4.\n"
     ]
    }
   ],
   "source": [
    "# Press shift+enter to run code in a cell\n",
    "\n",
    "# Import PuLP library; if there is an error message type \"pip install pulp\" + shift-enter\n",
    "from pulp import *\n",
    "\n",
    "#Indices\n",
    "mills = list(range(3))\n",
    "warehouses =  list(range(4))\n",
    "\n",
    "#Parameters\n",
    "costs=[[53,95,136,160],\n",
    "[60,120,132,140],\n",
    "[210, 190, 89, 71]]\n",
    "capacities=[10200, 2000, 4100]\n",
    "demands = [2500, 3000, 5500, 5000]\n",
    "\n",
    "#Create a optimization model (minimization)\n",
    "model = LpProblem(\"PP_model\", LpMinimize) \n",
    "\n",
    "#Create decision variables x_ij\n",
    "x=[[LpVariable(\"x_\"+str(i+1)+str(j+1),0,None) for j in warehouses] for i in mills] \n",
    "\n",
    "#Add objective function:\n",
    "model += (lpSum([costs[i][j]*x[i][j] for i in mills for j in warehouses]) , \"Transportation_costs\")\n",
    "\n",
    "#Add capacity constraints at the mills:\n",
    "for i in mills: \n",
    "    model += (lpSum([x[i][j] for j in warehouses])<=capacities[i], \"Capacity_at_mill_\"+str(i+1))\n",
    "\n",
    "#Add balance constraints at the warehouses:\n",
    "for j in warehouses: \n",
    "    model += (lpSum([x[i][j] for i in mills])==demands[j], \"Demand_at_warehouse_\"+str(j+1))\n",
    "\n",
    "model.solve() #Solve the optimal solution to model\n",
    "\n",
    "#Print optimal objective function value:\n",
    "print(\"Optimal transportation cost \"+str(model.objective.value())+\" .\")\n",
    "   \n",
    "                     \n",
    "#Print optimal decision variable values: \n",
    "for i in mills:\n",
    "    print(\"------\")\n",
    "    for j in warehouses:\n",
    "        if (x[i][j].varValue>0):\n",
    "            print(\"Transport \"+str(x[i][j].varValue)+\" tons from mill \"+str(i+1)+\" to warehouse \"+str(j+1)+\".\") \n"
   ]
  }
 ],
 "metadata": {
  "kernelspec": {
   "display_name": "Python 3",
   "language": "python",
   "name": "python3"
  },
  "language_info": {
   "codemirror_mode": {
    "name": "ipython",
    "version": 3
   },
   "file_extension": ".py",
   "mimetype": "text/x-python",
   "name": "python",
   "nbconvert_exporter": "python",
   "pygments_lexer": "ipython3",
   "version": "3.11.3"
  }
 },
 "nbformat": 4,
 "nbformat_minor": 2
}
